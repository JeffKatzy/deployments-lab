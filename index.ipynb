{
 "cells": [
  {
   "cell_type": "markdown",
   "id": "according-auckland",
   "metadata": {},
   "source": [
    "# Deployments Lab"
   ]
  },
  {
   "cell_type": "markdown",
   "id": "graduate-nomination",
   "metadata": {},
   "source": [
    "### Introduction"
   ]
  },
  {
   "cell_type": "markdown",
   "id": "beneficial-grave",
   "metadata": {},
   "source": [
    "In this lesson,  we'll practice creating deployments.  As we know, deployments allow us to manage our pods as a unit.  Let'sget started working with them."
   ]
  },
  {
   "cell_type": "markdown",
   "id": "understanding-packing",
   "metadata": {},
   "source": [
    "### Update"
   ]
  },
  {
   "cell_type": "markdown",
   "id": "crucial-stranger",
   "metadata": {},
   "source": [
    "We can get started by creating an `backend-deployment.yaml` file.  We'll fill in some of the information for you."
   ]
  },
  {
   "cell_type": "markdown",
   "id": "polar-afghanistan",
   "metadata": {},
   "source": [
    "```yaml\n",
    "apiVersion: apps/v1\n",
    "kind: Deployment\n",
    "metadata:\n",
    "  name: \n",
    "```"
   ]
  },
  {
   "cell_type": "markdown",
   "id": "military-small",
   "metadata": {},
   "source": [
    "The top key and values are to specify that we are creating a deployment.  And the name is the name of the deployment itself.  \n",
    "\n",
    "Let's provide a name of `backend-deployment` for the deployment.\n",
    "\n",
    "Next we need to specify the spec of the deployment itself.  \n",
    "\n",
    "Under the `spec` we have the following keys:\n",
    "\n",
    "* `replicas`\n",
    "* `selector` and\n",
    "* `template`\n",
    "\n",
    "The replicas specifies the number of replicas, and with the `selector`, we provide the label associated with the deployment.\n",
    "\n",
    "Here, we filled this in for you.  The `matchLabels` key is literally how the deployment will associate with individual pods.  The key value pairs under `labels` can be anything.  \n",
    "\n",
    "* Add a key value pair of `component: backend`. \n",
    "\n",
    "Then we'll move onto `template`.\n",
    "\n",
    "* Then template has the keys of `metadata` and `spec` -- where metadata is where we provide the label of each pod, and `spec` is the where the container information is listed.  \n",
    "\n",
    "* Let's call the container `apartments-api`, and the image to use is `jek2141/apartments_api:v1`.  The port you'll have to discover on your own.  But it should be the port where the flask application is listening."
   ]
  },
  {
   "cell_type": "markdown",
   "id": "arranged-national",
   "metadata": {},
   "source": [
    "### Creating the deployment"
   ]
  },
  {
   "cell_type": "markdown",
   "id": "awful-invasion",
   "metadata": {},
   "source": [
    "Ok, now let's create the deployment.   \n",
    "\n",
    "* Use the `apply` command with the `-f` flag to do so."
   ]
  },
  {
   "cell_type": "markdown",
   "id": "attempted-thanksgiving",
   "metadata": {},
   "source": [
    "> We should see the following:\n",
    "\n",
    "> <img src=\"./backend-deployment.png\" width=\"80%\">"
   ]
  },
  {
   "cell_type": "markdown",
   "id": "metric-birth",
   "metadata": {},
   "source": [
    "Next, let's look at the pods created."
   ]
  },
  {
   "cell_type": "markdown",
   "id": "temporal-programmer",
   "metadata": {},
   "source": [
    "> <img src=\"./pods-created.png\" width=\"70%\">"
   ]
  },
  {
   "cell_type": "markdown",
   "id": "attempted-championship",
   "metadata": {},
   "source": [
    "We can also see our specific deployment, with the `get deployments` command.  Give it a shot."
   ]
  },
  {
   "cell_type": "markdown",
   "id": "multiple-hungary",
   "metadata": {},
   "source": [
    "```bash\n",
    "NAME                 READY   UP-TO-DATE   AVAILABLE   AGE\n",
    "backend-deployment   2/2     2            2           6m23s\n",
    "```"
   ]
  },
  {
   "cell_type": "markdown",
   "id": "through-removal",
   "metadata": {},
   "source": [
    "And we can see additional details about the deployment with a call to `kubectl describe deployments`.  Let's call that command, and confirm that the image is `jek2141/apartments_api:v1` and the port is `80/TCP`.  "
   ]
  },
  {
   "cell_type": "markdown",
   "id": "lucky-merit",
   "metadata": {},
   "source": [
    "Now we can view the logs of the different pods as a unit.  We can do so by running the following: \n",
    "\n",
    "* `kubectl logs -f -l component=backend`"
   ]
  },
  {
   "cell_type": "markdown",
   "id": "norwegian-significance",
   "metadata": {},
   "source": [
    "> In the above command, the `-f` is to follow the logs, and the `-l` says to display the logs of all pods with a `label` of `component=backend`.  \n",
    "\n",
    "We should see the following:"
   ]
  },
  {
   "cell_type": "markdown",
   "id": "minor-juice",
   "metadata": {},
   "source": [
    "> <img src=\"./logs-labeled.png\" width=\"70%\">"
   ]
  },
  {
   "cell_type": "markdown",
   "id": "diverse-least",
   "metadata": {},
   "source": [
    "Notice that in the above, we see the same output twice -- thiss is because currently logs from both pods are the same."
   ]
  },
  {
   "cell_type": "markdown",
   "id": "compound-extent",
   "metadata": {},
   "source": [
    "Next let's try to connect to one of the pods using the `port-forward` command.  Then make a request to the api's `/apartments` endpoint.\n",
    "\n",
    "> We should see the following."
   ]
  },
  {
   "cell_type": "markdown",
   "id": "unlikely-testing",
   "metadata": {},
   "source": [
    "> <img src=\"./apartments_json.png\" width=\"40%\">"
   ]
  },
  {
   "cell_type": "markdown",
   "id": "reported-bracelet",
   "metadata": {},
   "source": [
    "### Updating our Deployment"
   ]
  },
  {
   "cell_type": "markdown",
   "id": "varying-business",
   "metadata": {},
   "source": [
    "Now we can update our deployment.  Let's change the image from `jek2141/apartments_api:v1` to `jek2141/apartments_api:v2`.  \n",
    "\n",
    "Update the `backend-deployment.yaml` file, and reapply.\n",
    "\n",
    "> We should see the following:\n",
    "\n",
    "> `deployment.apps/backend-deployment configured`\n",
    "\n",
    "Then connect to one of the pods using the port-forward command.  Connect to the `apartments` endpoint and we can see that our api has been updated -- we'll now see four apartment records instead of two.  "
   ]
  },
  {
   "cell_type": "markdown",
   "id": "solved-style",
   "metadata": {},
   "source": [
    "> <img src=\"./four_apts.png\" width=\"40%\">"
   ]
  },
  {
   "cell_type": "markdown",
   "id": "structural-principle",
   "metadata": {},
   "source": [
    "Let's take a look at our revisions."
   ]
  },
  {
   "cell_type": "markdown",
   "id": "derived-slope",
   "metadata": {},
   "source": [
    "`kubectl rollout history deployment --revision=1`"
   ]
  },
  {
   "cell_type": "markdown",
   "id": "regulated-junior",
   "metadata": {},
   "source": [
    "> We should see that in the first revision, our `apartments_api:v1` image was used.\n",
    "> \n",
    "> <img src=\"./pod_template.png\" width=\"60%\">"
   ]
  },
  {
   "cell_type": "markdown",
   "id": "federal-squad",
   "metadata": {},
   "source": [
    "And now let's rollback our deployment to revision 1 with the following:"
   ]
  },
  {
   "cell_type": "markdown",
   "id": "corporate-camera",
   "metadata": {},
   "source": [
    "> `kubectl rollout undo deployment backend-deployment --to-revision=1`"
   ]
  },
  {
   "cell_type": "markdown",
   "id": "settled-entrance",
   "metadata": {},
   "source": [
    "> <img src=\"./rolled_back.png\" width=\"70%\">"
   ]
  },
  {
   "cell_type": "markdown",
   "id": "australian-preserve",
   "metadata": {},
   "source": [
    "And then we can confirm that we have rolled back to our earlier image -- use port forwarding to do so."
   ]
  },
  {
   "cell_type": "markdown",
   "id": "fluid-scope",
   "metadata": {},
   "source": [
    "<img src=\"./apartments_r1.png\" width=\"40%\">"
   ]
  },
  {
   "cell_type": "markdown",
   "id": "sound-belfast",
   "metadata": {},
   "source": [
    "### Summary"
   ]
  },
  {
   "cell_type": "markdown",
   "id": "practical-demonstration",
   "metadata": {},
   "source": [
    "In this lesson, we practiced working with deployments.  We saw that, with a deployment, we can manage multiple pods at once.  With creating the configuration for the deployment, our yaml file took on the following structure:\n",
    "```yaml\n",
    "spec:\n",
    "  replicas: 2\n",
    "  selector:\n",
    "    matchLabels:\n",
    "      component: backend\n",
    "  template:\n",
    "    metadata:\n",
    "      labels:\n",
    "        component: backend\n",
    "    spec:\n",
    "      containers:\n",
    "        - name: apartments-api\n",
    "          image: jek2141/apartments_api:v2\n",
    "          ports:\n",
    "          - containerPort: 80\n",
    "```"
   ]
  },
  {
   "cell_type": "markdown",
   "id": "nuclear-first",
   "metadata": {},
   "source": [
    "Note that in spec, we have `template.spec` for the specification of each individual pod.  We applied our deployment with a call to `kubectl apply -f file.yaml` and were able to view the logs on pods matching our labels with the `-l` flag:\n",
    "\n",
    "`kubectl logs -f -l component=backend`.\n",
    "\n",
    "After applying multiple deployments we viewed the history of the deployment with a call to:\n",
    "\n",
    "`kubectl rollout history deployment --revision=1`\n",
    "\n",
    "And rolled back to a revision with the `undo-deployment` command, as in:\n",
    "\n",
    "`kubectl rollout undo deployment backend-deployment --to-revision=1`"
   ]
  }
 ],
 "metadata": {
  "kernelspec": {
   "display_name": "Python 3",
   "language": "python",
   "name": "python3"
  },
  "language_info": {
   "codemirror_mode": {
    "name": "ipython",
    "version": 3
   },
   "file_extension": ".py",
   "mimetype": "text/x-python",
   "name": "python",
   "nbconvert_exporter": "python",
   "pygments_lexer": "ipython3",
   "version": "3.8.6"
  }
 },
 "nbformat": 4,
 "nbformat_minor": 5
}
